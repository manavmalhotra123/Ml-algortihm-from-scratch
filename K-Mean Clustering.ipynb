{
 "cells": [
  {
   "cell_type": "markdown",
   "id": "12aa2b80",
   "metadata": {},
   "source": [
    "# K-Means Clustering"
   ]
  },
  {
   "cell_type": "code",
   "execution_count": 6,
   "id": "cd3211eb",
   "metadata": {},
   "outputs": [
    {
     "data": {
      "image/png": "[encoded data removed]",
      "text/plain": [
       "<Figure size 432x288 with 1 Axes>"
      ]
     },
     "metadata": {
      "needs_background": "light"
     },
     "output_type": "display_data"
    }
   ],
   "source": [
    "data = [\n",
    "        [5,2],\n",
    "        [2,4],\n",
    "        [9,5],\n",
    "        [4,6],\n",
    "        [5,2],\n",
    "        [1,5],\n",
    "        [6,7],\n",
    "        [4,2],\n",
    "        [6,4],\n",
    "        [9,2],\n",
    "        [4,5],\n",
    "        [1,6],\n",
    "        [4,7],\n",
    "        [3,6],\n",
    "        [1,1],\n",
    "        [8,4],\n",
    "        [8,7],\n",
    "        [7,2],\n",
    "        [2,2],\n",
    "        [2,1],\n",
    "        [1,2],\n",
    "        [1,4]\n",
    "        ]\n",
    "\n",
    "x = [i[0] for i in data]\n",
    "y = [i[1] for i in data]\n",
    "\n",
    "import matplotlib.pyplot as plt\n",
    "\n",
    "plt.scatter(x,y)\n",
    "plt.show()"
   ]
  },
  {
   "cell_type": "code",
   "execution_count": 7,
   "id": "ae47a673",
   "metadata": {},
   "outputs": [],
   "source": [
    "import math\n",
    "def dist(center, point):\n",
    "    d = 0.0\n",
    "    for i in range(0,len(point)):\n",
    "        d += (center[i]-point[i])**2\n",
    "    return math.sqrt(d)"
   ]
  },
  {
   "cell_type": "code",
   "execution_count": 8,
   "id": "21804a4d",
   "metadata": {},
   "outputs": [],
   "source": [
    "def assignCenters(centers, dataset):\n",
    "    clusters = []\n",
    "    for i in range(len(dataset)):\n",
    "        distances = []\n",
    "        for center in centers:\n",
    "            distances.append(dist(center, dataset[i]))\n",
    "        temp = [z for z, val in enumerate(distances) if val==min(distances)]\n",
    "        clusters.append(temp[0])\n",
    "    return clusters\n",
    "\n",
    "def mean_center(k, dataset, clusters):\n",
    "    nCenters = []\n",
    "    for i in range(k):\n",
    "        x = 0.0\n",
    "        y = 0.0\n",
    "        count = 0\n",
    "        for j in range(len(clusters)):\n",
    "            if(i == clusters[j]):\n",
    "                x += dataset[j][0]\n",
    "                y += dataset[j][1]\n",
    "                count += 1\n",
    "        x = x/count\n",
    "        y = y/count\n",
    "        nCenters.append([x,y])\n",
    "    return nCenters"
   ]
  },
  {
   "cell_type": "code",
   "execution_count": 9,
   "id": "e07fb563",
   "metadata": {},
   "outputs": [
    {
     "name": "stdout",
     "output_type": "stream",
     "text": [
      "enter k\n",
      "2\n",
      "enter center 0\n",
      "6 4\n",
      "enter center 1\n",
      "9 2\n"
     ]
    }
   ],
   "source": [
    "print(\"enter k\")\n",
    "k = int(input())\n",
    "centers = []\n",
    "for i in range(k):\n",
    "    print(\"enter center \"+str(i))\n",
    "    temp = [int(x) for x in input().split()]\n",
    "    centers.append(temp)"
   ]
  },
  {
   "cell_type": "code",
   "execution_count": 10,
   "id": "7d820c45",
   "metadata": {},
   "outputs": [
    {
     "name": "stdout",
     "output_type": "stream",
     "text": [
      "Initial centers: \n",
      "[[6, 4], [9, 2]]\n",
      "Initial clusters: \n",
      "cluster 0\n",
      "[5, 2] [2, 4] [4, 6] [5, 2] [1, 5] [6, 7] [4, 2] [6, 4] [4, 5] [1, 6] [4, 7] [3, 6] [1, 1] [8, 4] [8, 7] [2, 2] [2, 1] [1, 2] [1, 4] \n",
      "cluster 1\n",
      "[9, 5] [9, 2] [7, 2] \n",
      "\n",
      "Iteration 0\n",
      "Updated centers: \n",
      "[[3.5789473684210527, 4.052631578947368], [8.333333333333334, 3.0]]\n",
      "Updated clusters: \n",
      "cluster 0\n",
      "[5, 2] [2, 4] [4, 6] [5, 2] [1, 5] [6, 7] [4, 2] [6, 4] [4, 5] [1, 6] [4, 7] [3, 6] [1, 1] [2, 2] [2, 1] [1, 2] [1, 4] \n",
      "cluster 1\n",
      "[9, 5] [9, 2] [8, 4] [8, 7] [7, 2] \n",
      "\n",
      "Iteration 1\n",
      "Updated centers: \n",
      "[[3.0588235294117645, 3.8823529411764706], [8.2, 4.0]]\n",
      "Updated clusters: \n",
      "cluster 0\n",
      "[5, 2] [2, 4] [4, 6] [5, 2] [1, 5] [4, 2] [4, 5] [1, 6] [4, 7] [3, 6] [1, 1] [2, 2] [2, 1] [1, 2] [1, 4] \n",
      "cluster 1\n",
      "[9, 5] [6, 7] [6, 4] [9, 2] [8, 4] [8, 7] [7, 2] \n",
      "\n",
      "Iteration 2\n",
      "Updated centers: \n",
      "[[2.6666666666666665, 3.6666666666666665], [7.571428571428571, 4.428571428571429]]\n",
      "Updated clusters: \n",
      "cluster 0\n",
      "[5, 2] [2, 4] [4, 6] [5, 2] [1, 5] [4, 2] [4, 5] [1, 6] [4, 7] [3, 6] [1, 1] [2, 2] [2, 1] [1, 2] [1, 4] \n",
      "cluster 1\n",
      "[9, 5] [6, 7] [6, 4] [9, 2] [8, 4] [8, 7] [7, 2] \n",
      "\n",
      "Iteration 3\n",
      "Updated centers: \n",
      "[[2.6666666666666665, 3.6666666666666665], [7.571428571428571, 4.428571428571429]]\n",
      "Updated clusters: \n",
      "cluster 0\n",
      "[5, 2] [2, 4] [4, 6] [5, 2] [1, 5] [4, 2] [4, 5] [1, 6] [4, 7] [3, 6] [1, 1] [2, 2] [2, 1] [1, 2] [1, 4] \n",
      "cluster 1\n",
      "[9, 5] [6, 7] [6, 4] [9, 2] [8, 4] [8, 7] [7, 2] \n",
      "\n",
      "Iteration 4\n",
      "Updated centers: \n",
      "[[2.6666666666666665, 3.6666666666666665], [7.571428571428571, 4.428571428571429]]\n",
      "Updated clusters: \n",
      "cluster 0\n",
      "[5, 2] [2, 4] [4, 6] [5, 2] [1, 5] [4, 2] [4, 5] [1, 6] [4, 7] [3, 6] [1, 1] [2, 2] [2, 1] [1, 2] [1, 4] \n",
      "cluster 1\n",
      "[9, 5] [6, 7] [6, 4] [9, 2] [8, 4] [8, 7] [7, 2] \n",
      "\n",
      "Iteration 5\n",
      "Updated centers: \n",
      "[[2.6666666666666665, 3.6666666666666665], [7.571428571428571, 4.428571428571429]]\n",
      "Updated clusters: \n",
      "cluster 0\n",
      "[5, 2] [2, 4] [4, 6] [5, 2] [1, 5] [4, 2] [4, 5] [1, 6] [4, 7] [3, 6] [1, 1] [2, 2] [2, 1] [1, 2] [1, 4] \n",
      "cluster 1\n",
      "[9, 5] [6, 7] [6, 4] [9, 2] [8, 4] [8, 7] [7, 2] \n",
      "\n",
      "Iteration 6\n",
      "Updated centers: \n",
      "[[2.6666666666666665, 3.6666666666666665], [7.571428571428571, 4.428571428571429]]\n",
      "Updated clusters: \n",
      "cluster 0\n",
      "[5, 2] [2, 4] [4, 6] [5, 2] [1, 5] [4, 2] [4, 5] [1, 6] [4, 7] [3, 6] [1, 1] [2, 2] [2, 1] [1, 2] [1, 4] \n",
      "cluster 1\n",
      "[9, 5] [6, 7] [6, 4] [9, 2] [8, 4] [8, 7] [7, 2] \n",
      "\n",
      "Iteration 7\n",
      "Updated centers: \n",
      "[[2.6666666666666665, 3.6666666666666665], [7.571428571428571, 4.428571428571429]]\n",
      "Updated clusters: \n",
      "cluster 0\n",
      "[5, 2] [2, 4] [4, 6] [5, 2] [1, 5] [4, 2] [4, 5] [1, 6] [4, 7] [3, 6] [1, 1] [2, 2] [2, 1] [1, 2] [1, 4] \n",
      "cluster 1\n",
      "[9, 5] [6, 7] [6, 4] [9, 2] [8, 4] [8, 7] [7, 2] \n",
      "\n",
      "Iteration 8\n",
      "Updated centers: \n",
      "[[2.6666666666666665, 3.6666666666666665], [7.571428571428571, 4.428571428571429]]\n",
      "Updated clusters: \n",
      "cluster 0\n",
      "[5, 2] [2, 4] [4, 6] [5, 2] [1, 5] [4, 2] [4, 5] [1, 6] [4, 7] [3, 6] [1, 1] [2, 2] [2, 1] [1, 2] [1, 4] \n",
      "cluster 1\n",
      "[9, 5] [6, 7] [6, 4] [9, 2] [8, 4] [8, 7] [7, 2] \n",
      "\n",
      "Iteration 9\n",
      "Updated centers: \n",
      "[[2.6666666666666665, 3.6666666666666665], [7.571428571428571, 4.428571428571429]]\n",
      "Updated clusters: \n",
      "cluster 0\n",
      "[5, 2] [2, 4] [4, 6] [5, 2] [1, 5] [4, 2] [4, 5] [1, 6] [4, 7] [3, 6] [1, 1] [2, 2] [2, 1] [1, 2] [1, 4] \n",
      "cluster 1\n",
      "[9, 5] [6, 7] [6, 4] [9, 2] [8, 4] [8, 7] [7, 2] \n",
      "\n"
     ]
    }
   ],
   "source": [
    "print(\"Initial centers: \")\n",
    "print(centers)\n",
    "print(\"Initial clusters: \")\n",
    "clusters = assignCenters(centers, data)\n",
    "for i in range(k):\n",
    "    print(\"cluster \"+str(i))\n",
    "    for j in range(len(clusters)):\n",
    "        if(i == clusters[j]):\n",
    "            print(data[j],end=' ')\n",
    "    print()\n",
    "print()\n",
    "for itr in range(10):\n",
    "    print(\"Iteration \"+str(itr))\n",
    "    centers = mean_center(k,data,clusters)\n",
    "    print(\"Updated centers: \")\n",
    "    print(centers)\n",
    "    clusters = assignCenters(centers, data)\n",
    "    print(\"Updated clusters: \")\n",
    "    for i in range(k):\n",
    "        print(\"cluster \"+str(i))\n",
    "        for j in range(len(clusters)):\n",
    "            if(i == clusters[j]):\n",
    "                print(data[j],end=' ')\n",
    "        print()\n",
    "    print()"
   ]
  },
  {
   "cell_type": "code",
   "execution_count": null,
   "id": "56a0df50",
   "metadata": {},
   "outputs": [],
   "source": []
  },
  {
   "cell_type": "code",
   "execution_count": null,
   "id": "43ef5d3e",
   "metadata": {},
   "outputs": [],
   "source": []
  },
  {
   "cell_type": "code",
   "execution_count": null,
   "id": "b900d2ba",
   "metadata": {},
   "outputs": [],
   "source": []
  },
  {
   "cell_type": "code",
   "execution_count": null,
   "id": "7b1f8ef5",
   "metadata": {},
   "outputs": [],
   "source": []
  },
  {
   "cell_type": "code",
   "execution_count": null,
   "id": "82c4d90d",
   "metadata": {},
   "outputs": [],
   "source": [
    "\n"
   ]
  }
 ],
 "metadata": {
  "kernelspec": {
   "display_name": "Python 3 (ipykernel)",
   "language": "python",
   "name": "python3"
  },
  "language_info": {
   "codemirror_mode": {
    "name": "ipython",
    "version": 3
   },
   "file_extension": ".py",
   "mimetype": "text/x-python",
   "name": "python",
   "nbconvert_exporter": "python",
   "pygments_lexer": "ipython3",
   "version": "3.10.5"
  }
 },
 "nbformat": 4,
 "nbformat_minor": 5
}
